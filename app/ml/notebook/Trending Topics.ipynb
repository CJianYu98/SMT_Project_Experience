{
 "cells": [
  {
   "cell_type": "markdown",
   "metadata": {},
   "source": [
    "## Trending Topics\n",
    "To obtain trending topics, we will be matching each text to dictionaries of different topics. If a proportion of the words exceed a threshold of matching the dictionary, then the text will be tagged to the topic. We set the threshold to 0.7. \n",
    "\n",
    "A text can be tagged to multiple topics."
   ]
  },
  {
   "cell_type": "code",
   "execution_count": 2,
   "metadata": {},
   "outputs": [],
   "source": [
    "import pandas as pd"
   ]
  },
  {
   "cell_type": "code",
   "execution_count": 4,
   "metadata": {},
   "outputs": [
    {
     "data": {
      "text/html": [
       "<div>\n",
       "<style scoped>\n",
       "    .dataframe tbody tr th:only-of-type {\n",
       "        vertical-align: middle;\n",
       "    }\n",
       "\n",
       "    .dataframe tbody tr th {\n",
       "        vertical-align: top;\n",
       "    }\n",
       "\n",
       "    .dataframe thead th {\n",
       "        text-align: right;\n",
       "    }\n",
       "</style>\n",
       "<table border=\"1\" class=\"dataframe\">\n",
       "  <thead>\n",
       "    <tr style=\"text-align: right;\">\n",
       "      <th></th>\n",
       "      <th>message</th>\n",
       "      <th>date_posted</th>\n",
       "      <th>processed_text</th>\n",
       "    </tr>\n",
       "  </thead>\n",
       "  <tbody>\n",
       "    <tr>\n",
       "      <th>1</th>\n",
       "      <td>Embrace hail in Singapore. Just let it go.</td>\n",
       "      <td>2018-01-30</td>\n",
       "      <td>embrace hail singapore let go</td>\n",
       "    </tr>\n",
       "    <tr>\n",
       "      <th>2</th>\n",
       "      <td>Background music superb tok Kong. No horse run.</td>\n",
       "      <td>2018-01-31</td>\n",
       "      <td>background music superb tok kong horse run</td>\n",
       "    </tr>\n",
       "    <tr>\n",
       "      <th>3</th>\n",
       "      <td>hail stones hitting a moving car unexpectedly ...</td>\n",
       "      <td>2018-01-31</td>\n",
       "      <td>hail stone hitting moving car unexpectedly dau...</td>\n",
       "    </tr>\n",
       "    <tr>\n",
       "      <th>4</th>\n",
       "      <td>Ya y no drop money drop ice cubes.</td>\n",
       "      <td>2018-01-31</td>\n",
       "      <td>ya drop money drop ice cube</td>\n",
       "    </tr>\n",
       "    <tr>\n",
       "      <th>5</th>\n",
       "      <td>Ur BGM sibei irritating can</td>\n",
       "      <td>2018-01-31</td>\n",
       "      <td>ur bgm sibei irritating</td>\n",
       "    </tr>\n",
       "    <tr>\n",
       "      <th>...</th>\n",
       "      <td>...</td>\n",
       "      <td>...</td>\n",
       "      <td>...</td>\n",
       "    </tr>\n",
       "    <tr>\n",
       "      <th>326778</th>\n",
       "      <td>Insane in the membrane</td>\n",
       "      <td>2021-12-01</td>\n",
       "      <td>insane membrane</td>\n",
       "    </tr>\n",
       "    <tr>\n",
       "      <th>326779</th>\n",
       "      <td>Straight people are normal people ? All mother...</td>\n",
       "      <td>2021-12-01</td>\n",
       "      <td>straight people normal people mother love</td>\n",
       "    </tr>\n",
       "    <tr>\n",
       "      <th>326780</th>\n",
       "      <td>They can massage all they want inside the cell...</td>\n",
       "      <td>2021-12-01</td>\n",
       "      <td>massage want inside cell soon</td>\n",
       "    </tr>\n",
       "    <tr>\n",
       "      <th>326781</th>\n",
       "      <td>Both(mum n idiot) are very Sick. Jail both for...</td>\n",
       "      <td>2021-12-01</td>\n",
       "      <td>mum n idiot sick jail 20 year let die inside good</td>\n",
       "    </tr>\n",
       "    <tr>\n",
       "      <th>326782</th>\n",
       "      <td>This woman does not deserve to be called a mot...</td>\n",
       "      <td>2021-12-01</td>\n",
       "      <td>woman deserve called mother even female animal...</td>\n",
       "    </tr>\n",
       "  </tbody>\n",
       "</table>\n",
       "<p>796392 rows × 3 columns</p>\n",
       "</div>"
      ],
      "text/plain": [
       "                                                  message date_posted  \\\n",
       "1              Embrace hail in Singapore. Just let it go.  2018-01-30   \n",
       "2         Background music superb tok Kong. No horse run.  2018-01-31   \n",
       "3       hail stones hitting a moving car unexpectedly ...  2018-01-31   \n",
       "4                      Ya y no drop money drop ice cubes.  2018-01-31   \n",
       "5                             Ur BGM sibei irritating can  2018-01-31   \n",
       "...                                                   ...         ...   \n",
       "326778                             Insane in the membrane  2021-12-01   \n",
       "326779  Straight people are normal people ? All mother...  2021-12-01   \n",
       "326780  They can massage all they want inside the cell...  2021-12-01   \n",
       "326781  Both(mum n idiot) are very Sick. Jail both for...  2021-12-01   \n",
       "326782  This woman does not deserve to be called a mot...  2021-12-01   \n",
       "\n",
       "                                           processed_text  \n",
       "1                           embrace hail singapore let go  \n",
       "2              background music superb tok kong horse run  \n",
       "3       hail stone hitting moving car unexpectedly dau...  \n",
       "4                             ya drop money drop ice cube  \n",
       "5                                 ur bgm sibei irritating  \n",
       "...                                                   ...  \n",
       "326778                                    insane membrane  \n",
       "326779          straight people normal people mother love  \n",
       "326780                      massage want inside cell soon  \n",
       "326781  mum n idiot sick jail 20 year let die inside good  \n",
       "326782  woman deserve called mother even female animal...  \n",
       "\n",
       "[796392 rows x 3 columns]"
      ]
     },
     "execution_count": 4,
     "metadata": {},
     "output_type": "execute_result"
    }
   ],
   "source": [
    "fb_data = pd.read_csv(\"../data/processed_facebook_text.csv\", index_col=0)\n",
    "fb_data"
   ]
  },
  {
   "cell_type": "code",
   "execution_count": 97,
   "metadata": {},
   "outputs": [],
   "source": [
    "def get_topics(text):\n",
    "    try: \n",
    "        with open('../data/Trending Topics/dictionary/art.csv') as f:\n",
    "            art_dict = set([i for i in f][0].split(\",\"))\n",
    "        with open('../data/Trending Topics/dictionary/education.csv') as f:\n",
    "            edu_dict = set([i for i in f][0].split(\",\"))\n",
    "        with open('../data/Trending Topics/dictionary/environment.csv') as f:\n",
    "            env_dict = set([i for i in f][0].split(\",\"))\n",
    "        with open('../data/Trending Topics/dictionary/fashion.csv') as f:\n",
    "            fashion_dict = set([i for i in f][0].split(\",\"))\n",
    "        with open('../data/Trending Topics/dictionary/food.csv') as f:\n",
    "            food_dict = set([i for i in f][0].split(\",\"))\n",
    "        with open('../data/Trending Topics/dictionary/health.csv') as f:\n",
    "            health_dict = set([i for i in f][0].split(\",\"))\n",
    "        with open('../data/Trending Topics/dictionary/politics.csv') as f:\n",
    "            politics_dict = set([i for i in f][0].split(\",\"))\n",
    "        with open('../data/Trending Topics/dictionary/technology.csv') as f:\n",
    "            tech_dict = set([i for i in f][0].split(\",\"))\n",
    "\n",
    "        topic_dicts = [art_dict, edu_dict, env_dict, fashion_dict, food_dict, health_dict, politics_dict, tech_dict]\n",
    "        # print(topic_dicts)\n",
    "        topic_match = []\n",
    "\n",
    "        for i in range(8):\n",
    "            match_text = topic_dicts[i].intersection(set(text.split()))\n",
    "            print(\"MATCHED WORDS\")\n",
    "            print(i, match_text)\n",
    "\n",
    "            if len(match_text)/len(text) >=0.8:\n",
    "                topic_match.append(1)\n",
    "            else:\n",
    "                topic_match.append(0)\n",
    "        return topic_match\n",
    "\n",
    "    except Exception as e:\n",
    "        return []"
   ]
  },
  {
   "cell_type": "markdown",
   "metadata": {},
   "source": [
    "#### Testing"
   ]
  },
  {
   "cell_type": "code",
   "execution_count": 99,
   "metadata": {},
   "outputs": [
    {
     "name": "stdout",
     "output_type": "stream",
     "text": [
      "MATCHED WORDS\n",
      "0 {'nature', 'students', 'education', '4', 'young', 'due', 'foundation', 'presence', '3', 'level', 'including', 'good', 'much', 'school', 'exist', 'job', 'take'}\n",
      "MATCHED WORDS\n",
      "1 {'normal', 'educational', 'choose', 'much', 'stress', 'education', 'believe', 'pathways', 'institutions', 'foundation', '3', '4', 'students', 'secondary', 'young', 'system', 'including', 'good', 'job', 'take', 'due', 'level', 'subjects', 'school', 'needs'}\n",
      "MATCHED WORDS\n",
      "2 {'nature', 'students', 'education', '4', 'young', 'normal', 'system', 'due', 'level', '3', 'including', 'good', 'much', 'school', 'needs', 'job', 'take'}\n",
      "MATCHED WORDS\n",
      "3 {'nature', 'believe', 'choose', '4', 'pretty', 'young', 'due', 'level', '3', 'including', 'good', 'much', 'school', 'needs', 'job', 'take'}\n",
      "MATCHED WORDS\n",
      "4 {'choose', '4', 'young', 'serving', 'system', 'due', 'level', '3', 'including', 'good', 'much', 'school', 'needs', 'job', 'take'}\n",
      "MATCHED WORDS\n",
      "5 {'nature', 'normal', 'choose', 'much', 'stress', 'education', '3', '4', 'students', 'young', 'system', 'including', 'good', 'job', 'due', 'take', 'level', 'school', 'needs'}\n",
      "MATCHED WORDS\n",
      "6 {'education', '4', 'normal', 'system', '3', 'including', 'good', 'much', 'due', 'needs', 'job', 'take'}\n",
      "MATCHED WORDS\n",
      "7 {'students', 'education', 'believe', 'choose', '4', 'young', 'due', 'system', 'level', '3', 'including', 'good', 'much', 'school', 'needs', 'job', 'take'}\n"
     ]
    },
    {
     "data": {
      "text/plain": [
       "[0, 0, 0, 0, 0, 0, 0, 0]"
      ]
     },
     "execution_count": 99,
     "metadata": {},
     "output_type": "execute_result"
    }
   ],
   "source": [
    "get_topics(set(\"No, our education system is doing a pretty good job serving the educational needs of our young while not imposing too much workload or stress on them. This is due to the presence of myriad pathways that students can choose to take. Primary school students can take their subjects at foundation level or at the normal level, secondary school students can choose between 3 or 4 streams, including Express, Normal (A) and Normal (T). Tertiary students can choose between 3 to 4 educational institutions as well. I believe stress does exist but it is not due to the nature of the education system, but due to societal influence, parental/family influence or it is self-imposed by the student.\".split()))"
   ]
  },
  {
   "cell_type": "code",
   "execution_count": 57,
   "metadata": {},
   "outputs": [
    {
     "data": {
      "text/plain": [
       "{'announced', 'education', 'minister', 'schools'}"
      ]
     },
     "execution_count": 57,
     "metadata": {},
     "output_type": "execute_result"
    }
   ],
   "source": [
    "match_text = edu_text.intersection(text)\n",
    "match_text"
   ]
  },
  {
   "cell_type": "markdown",
   "metadata": {},
   "source": [
    "TO DO:\n",
    "- Add dictionary for COVID-19, business, finance, social issues, entertainment\n",
    "- Refine the words for dictionaries \n",
    "  - Remove numbers\n",
    "  - More stopwords\n",
    "  - Manually add more specific words\n",
    "  - Consider bigrams or trigrams (for e.g. names of ministers, schools, other terms, etc.)"
   ]
  }
 ],
 "metadata": {
  "interpreter": {
   "hash": "5f292722d6d50c2426abae6fd15a85386b49c5393ec98f1c35f79e4e4dd7448b"
  },
  "kernelspec": {
   "display_name": "Python 3.7.3 ('base')",
   "language": "python",
   "name": "python3"
  },
  "language_info": {
   "codemirror_mode": {
    "name": "ipython",
    "version": 3
   },
   "file_extension": ".py",
   "mimetype": "text/x-python",
   "name": "python",
   "nbconvert_exporter": "python",
   "pygments_lexer": "ipython3",
   "version": "3.7.3"
  },
  "orig_nbformat": 4
 },
 "nbformat": 4,
 "nbformat_minor": 2
}
